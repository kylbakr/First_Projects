{
 "cells": [
  {
   "cell_type": "code",
   "execution_count": 1,
   "id": "c74ecba5",
   "metadata": {},
   "outputs": [],
   "source": [
    "from IPython.display import clear_output\n",
    "\n",
    "def monthly_payments():\n",
    "    \n",
    "    #principal\n",
    "    L = int(input(\"Please enter the loan amount: \"))\n",
    "    yearly_interest = float(input(\"Please enter the yearly interest rate: \"))/100\n",
    "    #interest rate\n",
    "    r = yearly_interest/12\n",
    "    #term\n",
    "    t = int(input(\"Please enter the term (number of months) of repayment: \")) \n",
    "    P = L*(r*(1+r)**t)/(((1+r)**t)-1)\n",
    "    result = round(P,2)\n",
    "\n",
    "    print(\"Your monthly repayments are {}€ per month\".format(result))\n"
   ]
  },
  {
   "cell_type": "code",
   "execution_count": 2,
   "id": "bac8152a",
   "metadata": {},
   "outputs": [],
   "source": [
    "\n",
    "\n",
    "def remaining_balance():\n",
    "\n",
    "    #principal\n",
    "    L = int(input(\"Please enter the loan amount: \"))\n",
    "    yearly_interest = float(input(\"Please enter the yearly interest rate: \"))/100\n",
    "    #interest rate\n",
    "    r = yearly_interest/12\n",
    "    #term\n",
    "    t = int(input(\"Please enter the term (number of months) of repayment: \")) \n",
    "    months_paid = p = int(input(\"How many months have passed?: \"))\n",
    "    \n",
    "    remaining_loan = L*(((1+r)**t)-(1+r)**p)/(((1+r)**t)-1)\n",
    "    remainder = round(remaining_loan,2)\n",
    "    \n",
    "    print(\"Your remaining loan balance is: {}€\".format(remainder))"
   ]
  },
  {
   "cell_type": "markdown",
   "id": "1d6ceef8",
   "metadata": {},
   "source": [
    "# customer choice"
   ]
  },
  {
   "cell_type": "code",
   "execution_count": 3,
   "id": "0f760a2c",
   "metadata": {},
   "outputs": [],
   "source": [
    "def customer_choice():\n",
    "    \n",
    "    return input('What do you need to calculate? Monthly payments, or remaining balance? ').lower()"
   ]
  },
  {
   "cell_type": "code",
   "execution_count": 4,
   "id": "0614d236",
   "metadata": {},
   "outputs": [],
   "source": [
    "def more_calc():\n",
    "    return input('Would you like to do another calcuation? ').lower().startswith('y')"
   ]
  },
  {
   "cell_type": "markdown",
   "id": "70ef0172",
   "metadata": {},
   "source": [
    "# Logic"
   ]
  },
  {
   "cell_type": "code",
   "execution_count": 9,
   "id": "946fbb97",
   "metadata": {},
   "outputs": [
    {
     "name": "stdout",
     "output_type": "stream",
     "text": [
      "Welcome to your loan calculator!\n",
      "Would you like to do a mortgage calculation? yes\n",
      "What do you need to calculate? Monthly payments, or remaining balance? m\n",
      "What do you need to calculate? Monthly payments, or remaining balance? m\n",
      "Please enter the loan amount: 345\n",
      "Please enter the yearly interest rate: 23\n",
      "Please enter the term (number of months) of repayment: 12\n",
      "Your monthly repayments are 32.46€ per month\n",
      "Would you like to do another calcuation? no\n",
      "Would you like to do another calcuation? no\n",
      "Thank you for using my calculator! Goodbye.\n"
     ]
    }
   ],
   "source": [
    "print('Welcome to your loan calculator!')\n",
    "\n",
    "while True:\n",
    "    \n",
    "    use_calc = input('Would you like to do a mortgage calculation? ').lower()\n",
    "    if use_calc.startswith('y'):\n",
    "        calc_on = True\n",
    "    elif use_calc.startswith('n'):\n",
    "        calc_on = False     \n",
    "    \n",
    "    while calc_on:\n",
    "    \n",
    "        customer_choice()\n",
    "        \n",
    "        if customer_choice().startswith('m'):\n",
    "            monthly_payments()\n",
    "            more_calc()\n",
    "            if more_calc() == False:\n",
    "                calc_on = False\n",
    "            else:\n",
    "                continue\n",
    "                \n",
    "        elif customer_choice().startswith('r'):\n",
    "            remaining_balance()\n",
    "            more_calc()\n",
    "            if more_calc() == False:\n",
    "                calc_on = False\n",
    "            else:\n",
    "                continue\n",
    "    else:\n",
    "        print('Thank you for using my calculator! Goodbye.')\n",
    "        break"
   ]
  },
  {
   "cell_type": "code",
   "execution_count": null,
   "id": "9582ef4d",
   "metadata": {},
   "outputs": [],
   "source": []
  }
 ],
 "metadata": {
  "kernelspec": {
   "display_name": "Python 3",
   "language": "python",
   "name": "python3"
  },
  "language_info": {
   "codemirror_mode": {
    "name": "ipython",
    "version": 3
   },
   "file_extension": ".py",
   "mimetype": "text/x-python",
   "name": "python",
   "nbconvert_exporter": "python",
   "pygments_lexer": "ipython3",
   "version": "3.8.8"
  }
 },
 "nbformat": 4,
 "nbformat_minor": 5
}
